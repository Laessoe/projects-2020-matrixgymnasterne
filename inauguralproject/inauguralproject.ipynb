{
 "cells": [
  {
   "cell_type": "markdown",
   "metadata": {},
   "source": [
    "# Inaugural Project"
   ]
  },
  {
   "cell_type": "markdown",
   "metadata": {},
   "source": [
    "> **Note the following:** \n",
    "> 1. This is an example of how to structure your **inaugural project**.\n",
    "> 1. Remember the general advice on structuring and commenting your code from [lecture 5](https://numeconcopenhagen.netlify.com/lectures/Workflow_and_debugging).\n",
    "> 1. Remember this [guide](https://www.markdownguide.org/basic-syntax/) on markdown and (a bit of) latex.\n",
    "> 1. Turn on automatic numbering by clicking on the small icon on top of the table of contents in the left sidebar.\n",
    "> 1. The `inauguralproject.py` file includes a function which can be used multiple times in this notebook."
   ]
  },
  {
   "cell_type": "markdown",
   "metadata": {},
   "source": [
    "Imports and set magics:"
   ]
  },
  {
   "cell_type": "code",
   "execution_count": 131,
   "metadata": {},
   "outputs": [
    {
     "name": "stdout",
     "output_type": "stream",
     "text": [
      "The autoreload extension is already loaded. To reload it, use:\n",
      "  %reload_ext autoreload\n"
     ]
    }
   ],
   "source": [
    "import numpy as np\n",
    "\n",
    "# autoreload modules when code is run\n",
    "%load_ext autoreload\n",
    "%autoreload 2\n",
    "\n",
    "# local modules\n",
    "import inauguralproject"
   ]
  },
  {
   "cell_type": "markdown",
   "metadata": {
    "toc-hr-collapsed": true
   },
   "source": [
    "# Question 1"
   ]
  },
  {
   "cell_type": "markdown",
   "metadata": {},
   "source": [
    "BRIEFLY EXPLAIN HOW YOU SOLVE THE MODEL."
   ]
  },
  {
   "cell_type": "code",
   "execution_count": null,
   "metadata": {},
   "outputs": [],
   "source": []
  },
  {
   "cell_type": "code",
   "execution_count": 132,
   "metadata": {},
   "outputs": [
    {
     "name": "stdout",
     "output_type": "stream",
     "text": [
      "The autoreload extension is already loaded. To reload it, use:\n",
      "  %reload_ext autoreload\n"
     ]
    }
   ],
   "source": [
    "import numpy as np\n",
    "import math\n",
    "from scipy import optimize\n",
    "import matplotlib.pyplot as plt\n",
    "\n",
    "%load_ext autoreload\n",
    "%autoreload 2\n",
    "\n",
    "import inauguralproject"
   ]
  },
  {
   "cell_type": "code",
   "execution_count": 133,
   "metadata": {},
   "outputs": [
    {
     "name": "stdout",
     "output_type": "stream",
     "text": [
      "solution found\n",
      "Optimal labour supply: 0.40\n",
      "Optimal consumption: 1.24\n",
      "Utility: 0.17\n"
     ]
    }
   ],
   "source": [
    "#We define the parameters\n",
    "m=1\n",
    "t0=0.4\n",
    "t1=0.1\n",
    "k=0.4\n",
    "w=1\n",
    "epsilon=0.3\n",
    "v=10\n",
    "l = range(0,1)\n",
    "\n",
    "def ufunc(l,x,v=10,epsilon=0.3):\n",
    "    return np.log(x)-v*((l**(1+1/epsilon))/(1+1/epsilon))\n",
    "\n",
    "# a. objective funciton (to minimize)\n",
    "def value_of_choice(l,x,m,w,t0,t1,k,v,epsilon):\n",
    "    x = m + w*l-(t0*w*l + t1*max(w*l-k,0))\n",
    "    return -ufunc(l,x,v,epsilon)\n",
    "\n",
    "# b. call solver\n",
    "sol_case1 = optimize.minimize_scalar(\n",
    "    value_of_choice,l,method='bounded',\n",
    "    bounds=(0,1),args=(l,m,w,t0,t1,k,v,epsilon))\n",
    "\n",
    "# c. unpack solution\n",
    "l = sol_case1.x\n",
    "x = m + w*l-(t0*w*l + t1*max(w*l-k,0))\n",
    "u = ufunc(l,x,v=10,epsilon=0.3)\n",
    "\n",
    "print('solution found')\n",
    "print(f'Optimal labour supply: {l:.2f}')\n",
    "print(f'Optimal consumption: {x:.2f}')\n",
    "print(f'Utility: {u:.2f}')"
   ]
  },
  {
   "cell_type": "markdown",
   "metadata": {},
   "source": [
    "# Question 2"
   ]
  },
  {
   "cell_type": "markdown",
   "metadata": {},
   "source": [
    "ADD ANSWER."
   ]
  },
  {
   "cell_type": "code",
   "execution_count": 152,
   "metadata": {},
   "outputs": [
    {
     "data": {
      "text/plain": [
       "<function matplotlib.pyplot.show(*args, **kw)>"
      ]
     },
     "execution_count": 152,
     "metadata": {},
     "output_type": "execute_result"
    },
    {
     "data": {
      "image/png": "[encoded data removed]",
      "text/plain": [
       "<Figure size 720x288 with 2 Axes>"
      ]
     },
     "metadata": {},
     "output_type": "display_data"
    }
   ],
   "source": [
    "N=1000\n",
    "w_values = np.linspace(0.5,1.5,N)\n",
    "l_values = np.empty(N)\n",
    "x_values = np.empty(N)\n",
    "\n",
    "def constraint(l,w):\n",
    "    cons = m + w*l-(t0*w*l + t1*max(w*l-k,0))\n",
    "    return cons\n",
    "\n",
    "for i,w in enumerate(w_values):\n",
    "    result = optimize.minimize_scalar(value_of_choice,bounds=(0,1),args=(l,m,w,t0,t1,k,v,epsilon),method=\"bounded\")\n",
    "    l_values[i] = result.x\n",
    "    x_values[i] = constraint(l_values[i],w)\n",
    "\n",
    "plt.style.use('seaborn-white')\n",
    "fig = plt.figure(figsize=(10,4))\n",
    "\n",
    "#subplot 1\n",
    "ax_left = fig.add_subplot(1,2,1)\n",
    "\n",
    "ax_left.plot(w_values,l_values)\n",
    "\n",
    "\n",
    "ax_left.set_title('Optimal labour supply given wage')\n",
    "ax_left.set_xlabel('$w$')\n",
    "ax_left.set_ylabel('$l^\\star$')\n",
    "\n",
    "#subplot 2\n",
    "ax_right = fig.add_subplot(1,2,2)\n",
    "\n",
    "ax_right.plot(w_values,x_values)\n",
    "\n",
    "\n",
    "ax_right.set_title('Optimal consumption given wage')\n",
    "ax_right.set_xlabel('$w$')\n",
    "ax_right.set_ylabel('$c^\\star$')\n",
    "\n",
    "plt.show"
   ]
  },
  {
   "cell_type": "markdown",
   "metadata": {},
   "source": [
    "# Question 3"
   ]
  },
  {
   "cell_type": "markdown",
   "metadata": {},
   "source": [
    "ADD ANSWER."
   ]
  },
  {
   "cell_type": "code",
   "execution_count": 153,
   "metadata": {},
   "outputs": [
    {
     "name": "stdout",
     "output_type": "stream",
     "text": [
      "Total tax revenue: 180.7\n"
     ]
    }
   ],
   "source": [
    "def tax(w_values,l_values,t0,t1,k):\n",
    "    revenue = np.sum(t0*w_values*l_values + t1*np.max(w_values*l_values-k,0))\n",
    "    return revenue\n",
    "\n",
    "print(f'Total tax revenue: {tax_rev(w_values,l_values,t0,t1,k):.1f}')"
   ]
  },
  {
   "cell_type": "markdown",
   "metadata": {},
   "source": [
    "# Question 4"
   ]
  },
  {
   "cell_type": "markdown",
   "metadata": {},
   "source": [
    "ADD ANSWER."
   ]
  },
  {
   "cell_type": "code",
   "execution_count": 154,
   "metadata": {},
   "outputs": [
    {
     "name": "stdout",
     "output_type": "stream",
     "text": [
      "Total tax revenue for epsilon = 0.1: 358.1\n"
     ]
    }
   ],
   "source": [
    "#We define the new value of elasticity\n",
    "epsilon2=0.1\n",
    "\n",
    "#The process from previous questions is repeated\n",
    "for i,w in enumerate(w_values):\n",
    "    result = optimize.minimize_scalar(value_of_choice,bounds=(0,1),args=(l,m,w,t0,t1,k,v,epsilon2),method=\"bounded\")\n",
    "    l_values[i] = result.x\n",
    "    x_values[i] = constraint(l_values[i],w)\n",
    "\n",
    "def tax(w_values,l_values,t0,t1,k):\n",
    "    revenue = np.sum(t0*w_values*l_values + t1*np.max(w_values*l_values-k,0))\n",
    "    return revenue\n",
    "\n",
    "print(f'Total tax revenue for epsilon = 0.1: {tax_rev(w_values,l_values,t0,t1,k):.1f}')"
   ]
  },
  {
   "cell_type": "markdown",
   "metadata": {},
   "source": [
    "# Question 5"
   ]
  },
  {
   "cell_type": "markdown",
   "metadata": {},
   "source": [
    "ADD ANSWER."
   ]
  },
  {
   "cell_type": "code",
   "execution_count": 155,
   "metadata": {},
   "outputs": [
    {
     "name": "stdout",
     "output_type": "stream",
     "text": [
      "Standard labor income is equal to: 1.00\n",
      "Top bracket labor income is equal to: 0.00\n",
      "Cut-off for top labor income is equal to: 0.00\n",
      "The total tax revenue is equal to: 718.99\n"
     ]
    }
   ],
   "source": [
    "#def tax_opt(x):\n",
    "    #t0 = x[0]\n",
    "    #t1 = x[1]\n",
    "    #k = x[2]\n",
    "    #w = x[3]\n",
    "    #l = x[4]\n",
    "    #rev = np.sum(t0*w*l + t1*np.max(w*l-k,0))\n",
    "    #return -rev\n",
    "\n",
    "def objective(x):\n",
    "    tau0 = x[0]\n",
    "    tau1 = x[1]\n",
    "    kappa = x[2]\n",
    "    w = x[3]\n",
    "    l = x[4]\n",
    "    rev = np.sum(t0*w*l + t1*np.max(w*l-k,0))\n",
    "    return rev\n",
    "\n",
    "def budget_constraint_tax(x):\n",
    "    tau0 = x[2]\n",
    "    tau1 = x[3]\n",
    "    kappa = x[4]\n",
    "    cons = m + x[0]*x[1] - (x[2]*x[0]*x[1] + x[3]*np.max(x[0]*x[1]-x[4],0))\n",
    "    return cons\n",
    "\n",
    "def eq_tax(x):\n",
    "    w = x[0]\n",
    "    l = x[1]\n",
    "    c = budget_constraint_tax(x)\n",
    "    return objective(x)\n",
    "\n",
    "# Multivariate optimizer \n",
    "x0 = [1, 1, 1, 1, 1]\n",
    "constraint = ({\"type\":\"ineq\",\"fun\":budget_constraint_tax})\n",
    "bounds = ((0.5,1.5),(0,1),(0,1),(0,1),(0,1))\n",
    "\n",
    "tax_res = optimize.minimize(eq_tax, x0, bounds=bounds,constraints=constraint, method='SLSQP')\n",
    "\n",
    "# Unpacking results\n",
    "w_star = tax_res.x[0]\n",
    "l_star = tax_res.x[1]\n",
    "tau_0_star = tax_res.x[2]\n",
    "tau_1_star = tax_res.x[3]\n",
    "kappa_star = tax_res.x[4]\n",
    "c_star = budget_constraint_tax(tax_res.x)\n",
    "unfunc_opt_tax = ufunc(c_star,l_star)\n",
    "tax_rev_opt = tax_rev(w_values,l_values,tau_0_star,tau_1_star,kappa_star)\n",
    "\n",
    "# Results\n",
    "print(f'Standard labor income is equal to: {tau_0_star:.2f}')\n",
    "print(f'Top bracket labor income is equal to: {tau_1_star:.2f}')\n",
    "print(f'Cut-off for top labor income is equal to: {tau_1_star:.2f}')\n",
    "print(f'The total tax revenue is equal to: {tax_rev_opt:.2f}')"
   ]
  },
  {
   "cell_type": "markdown",
   "metadata": {},
   "source": [
    "# Conclusion"
   ]
  },
  {
   "cell_type": "markdown",
   "metadata": {},
   "source": [
    "ADD CONCISE CONLUSION."
   ]
  },
  {
   "cell_type": "code",
   "execution_count": null,
   "metadata": {},
   "outputs": [],
   "source": []
  }
 ],
 "metadata": {
  "kernelspec": {
   "display_name": "Python 3",
   "language": "python",
   "name": "python3"
  },
  "language_info": {
   "codemirror_mode": {
    "name": "ipython",
    "version": 3
   },
   "file_extension": ".py",
   "mimetype": "text/x-python",
   "name": "python",
   "nbconvert_exporter": "python",
   "pygments_lexer": "ipython3",
   "version": "3.7.4"
  },
  "toc-autonumbering": true
 },
 "nbformat": 4,
 "nbformat_minor": 4
}
