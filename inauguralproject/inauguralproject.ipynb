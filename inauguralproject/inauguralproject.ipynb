{
 "cells": [
  {
   "cell_type": "markdown",
   "metadata": {},
   "source": [
    "# Inaugural Project"
   ]
  },
  {
   "cell_type": "markdown",
   "metadata": {},
   "source": [
    "> **Note the following:** \n",
    "> 1. This is an example of how to structure your **inaugural project**.\n",
    "> 1. Remember the general advice on structuring and commenting your code from [lecture 5](https://numeconcopenhagen.netlify.com/lectures/Workflow_and_debugging).\n",
    "> 1. Remember this [guide](https://www.markdownguide.org/basic-syntax/) on markdown and (a bit of) latex.\n",
    "> 1. Turn on automatic numbering by clicking on the small icon on top of the table of contents in the left sidebar.\n",
    "> 1. The `inauguralproject.py` file includes a function which can be used multiple times in this notebook."
   ]
  },
  {
   "cell_type": "markdown",
   "metadata": {},
   "source": [
    "Imports and set magics:"
   ]
  },
  {
   "cell_type": "code",
   "execution_count": 204,
   "metadata": {},
   "outputs": [
    {
     "name": "stdout",
     "output_type": "stream",
     "text": [
      "The autoreload extension is already loaded. To reload it, use:\n",
      "  %reload_ext autoreload\n"
     ]
    }
   ],
   "source": [
    "import numpy as np\n",
    "\n",
    "# autoreload modules when code is run\n",
    "%load_ext autoreload\n",
    "%autoreload 2\n",
    "\n",
    "# local modules\n",
    "import inauguralproject"
   ]
  },
  {
   "cell_type": "markdown",
   "metadata": {
    "toc-hr-collapsed": true
   },
   "source": [
    "# Question 1"
   ]
  },
  {
   "cell_type": "markdown",
   "metadata": {},
   "source": [
    "BRIEFLY EXPLAIN HOW YOU SOLVE THE MODEL."
   ]
  },
  {
   "cell_type": "code",
   "execution_count": null,
   "metadata": {},
   "outputs": [],
   "source": []
  },
  {
   "cell_type": "code",
   "execution_count": 205,
   "metadata": {},
   "outputs": [
    {
     "name": "stdout",
     "output_type": "stream",
     "text": [
      "The autoreload extension is already loaded. To reload it, use:\n",
      "  %reload_ext autoreload\n"
     ]
    }
   ],
   "source": [
    "import numpy as np\n",
    "import math\n",
    "from scipy import optimize\n",
    "import matplotlib.pyplot as plt\n",
    "\n",
    "%load_ext autoreload\n",
    "%autoreload 2\n",
    "\n",
    "import inauguralproject"
   ]
  },
  {
   "cell_type": "code",
   "execution_count": 206,
   "metadata": {},
   "outputs": [
    {
     "name": "stdout",
     "output_type": "stream",
     "text": [
      "Optimal labour supply: 0.4\n",
      "Optimal consumption: 1.24\n",
      "Utility: 0.17\n"
     ]
    }
   ],
   "source": [
    "#The parameters are defined\n",
    "m=1\n",
    "t0=0.4\n",
    "t1=0.1\n",
    "k=0.4\n",
    "w=1\n",
    "epsilon=0.3\n",
    "v=10\n",
    "l = range(0,1)\n",
    "\n",
    "#The utily function is defined\n",
    "def ufunc(l,x,v=10,epsilon=0.3):\n",
    "    return np.log(x)-v*((l**(1+1/epsilon))/(1+1/epsilon))\n",
    "\n",
    "#Defining a function to minimize and including the constraint\n",
    "def value_of_choice(l,x,m,w,t0,t1,k,v,epsilon):\n",
    "    x = m + w*l-(t0*w*l + t1*max(w*l-k,0))\n",
    "    return -ufunc(l,x,v,epsilon)\n",
    "\n",
    "#The negative utility function is minimized and thereby the utility function is maximized\n",
    "sol_case1 = optimize.minimize_scalar(\n",
    "    value_of_choice,l,method='bounded',\n",
    "    bounds=(0,1),args=(l,m,w,t0,t1,k,v,epsilon))\n",
    "\n",
    "#The solution is unpacked\n",
    "l = sol_case1.x\n",
    "x = m + w*l-(t0*w*l + t1*max(w*l-k,0))\n",
    "u = ufunc(l,x,v=10,epsilon=0.3)\n",
    "\n",
    "print(f'Optimal labour supply: {l:.1f}')\n",
    "print(f'Optimal consumption: {x:.2f}')\n",
    "print(f'Utility: {u:.2f}')"
   ]
  },
  {
   "cell_type": "markdown",
   "metadata": {},
   "source": [
    "# Question 2"
   ]
  },
  {
   "cell_type": "markdown",
   "metadata": {},
   "source": [
    "ADD ANSWER."
   ]
  },
  {
   "cell_type": "code",
   "execution_count": 207,
   "metadata": {},
   "outputs": [
    {
     "data": {
      "text/plain": [
       "<function matplotlib.pyplot.show(*args, **kw)>"
      ]
     },
     "execution_count": 207,
     "metadata": {},
     "output_type": "execute_result"
    },
    {
     "data": {
      "image/png": "[encoded data removed]",
      "text/plain": [
       "<Figure size 720x288 with 2 Axes>"
      ]
     },
     "metadata": {},
     "output_type": "display_data"
    }
   ],
   "source": [
    "N=10000\n",
    "\n",
    "#The interval for w is chosen and empty arrays are made for the variables\n",
    "w_values = np.linspace(0.5,1.5,N)\n",
    "l_values = np.empty(N)\n",
    "x_values = np.empty(N)\n",
    "\n",
    "#The constraint is defined\n",
    "def constraint(l,w):\n",
    "    cons = m + w*l-(t0*w*l + t1*max(w*l-k,0))\n",
    "    return cons\n",
    "\n",
    "#A loop is created to generate results for the values of l and x\n",
    "for i,w in enumerate(w_values):\n",
    "    result = optimize.minimize_scalar(value_of_choice,bounds=(0,1),args=(l,m,w,t0,t1,k,v,epsilon),method=\"bounded\")\n",
    "    l_values[i] = result.x\n",
    "    x_values[i] = constraint(l_values[i],w)\n",
    "\n",
    "plt.style.use('seaborn-white')\n",
    "fig = plt.figure(figsize=(10,4))\n",
    "\n",
    "#l^star as a function of w is plotted\n",
    "ax_left = fig.add_subplot(1,2,1)\n",
    "\n",
    "ax_left.plot(w_values,l_values)\n",
    "\n",
    "\n",
    "ax_left.set_title('$\\ell^\\star$ for a given $w$')\n",
    "ax_left.set_xlabel('$w$')\n",
    "ax_left.set_ylabel('$\\ell^\\star$')\n",
    "\n",
    "#c^star as a function of w is plotted\n",
    "ax_right = fig.add_subplot(1,2,2)\n",
    "\n",
    "ax_right.plot(w_values,x_values)\n",
    "\n",
    "\n",
    "ax_right.set_title('$c^\\star$ for a given $w$')\n",
    "ax_right.set_xlabel('$w$')\n",
    "ax_right.set_ylabel('$c^\\star$')\n",
    "\n",
    "plt.show"
   ]
  },
  {
   "cell_type": "markdown",
   "metadata": {},
   "source": [
    "# Question 3"
   ]
  },
  {
   "cell_type": "markdown",
   "metadata": {},
   "source": [
    "ADD ANSWER."
   ]
  },
  {
   "cell_type": "code",
   "execution_count": 208,
   "metadata": {},
   "outputs": [
    {
     "name": "stdout",
     "output_type": "stream",
     "text": [
      "Total tax revenue: 1807.1 currency units\n"
     ]
    }
   ],
   "source": [
    "#The tax revenued is defined as the sum of revenues from each individual, N\n",
    "def tax(w_values,l_values,t0,t1,k):\n",
    "    revenue = np.sum(t0*w_values*l_values + t1*np.max(w_values*l_values-k,0))\n",
    "    return revenue\n",
    "\n",
    "print(f'Total tax revenue: {tax(w_values,l_values,t0,t1,k):.1f} currency units')"
   ]
  },
  {
   "cell_type": "markdown",
   "metadata": {},
   "source": [
    "# Question 4"
   ]
  },
  {
   "cell_type": "markdown",
   "metadata": {},
   "source": [
    "ADD ANSWER."
   ]
  },
  {
   "cell_type": "code",
   "execution_count": 209,
   "metadata": {},
   "outputs": [
    {
     "name": "stdout",
     "output_type": "stream",
     "text": [
      "Total tax revenue for epsilon = 0.1: 3581.0 currency units\n"
     ]
    }
   ],
   "source": [
    "#The new value of elasticity is defined\n",
    "epsilon2=0.1\n",
    "\n",
    "#The process from previous questions is repeated\n",
    "for i,w in enumerate(w_values):\n",
    "    result = optimize.minimize_scalar(value_of_choice,bounds=(0,1),args=(l,m,w,t0,t1,k,v,epsilon2),method=\"bounded\")\n",
    "    l_values[i] = result.x\n",
    "    x_values[i] = constraint(l_values[i],w)\n",
    "\n",
    "def tax(w_values,l_values,t0,t1,k):\n",
    "    revenue = np.sum(t0*w_values*l_values + t1*np.max(w_values*l_values-k,0))\n",
    "    return revenue\n",
    "\n",
    "print(f'Total tax revenue for epsilon = 0.1: {tax(w_values,l_values,t0,t1,k):.1f} currency units')"
   ]
  },
  {
   "cell_type": "markdown",
   "metadata": {},
   "source": [
    "# Question 5"
   ]
  },
  {
   "cell_type": "markdown",
   "metadata": {},
   "source": [
    "ADD ANSWER."
   ]
  },
  {
   "cell_type": "code",
   "execution_count": 248,
   "metadata": {},
   "outputs": [
    {
     "name": "stdout",
     "output_type": "stream",
     "text": [
      "Standard labor income tax: 99.9%\n",
      "Top bracket labor income tax: 66.8%\n",
      "Cut-off for top labor income: 0.0\n",
      "Expected tax revenue: 14557.2 currency units\n"
     ]
    }
   ],
   "source": [
    "#The variables are defined as a vector and the revenue in respect to these is constructed\n",
    "def revenue(x):\n",
    "    t0 = x[0]\n",
    "    t1 = x[1]\n",
    "    k = x[2]\n",
    "    w = x[3]\n",
    "    l = x[4]\n",
    "    rev = np.sum(t0*w*l + t1*np.max(w*l-k,0))\n",
    "    return rev\n",
    "\n",
    "#The budget constraint is constructed from the vector\n",
    "def budget_constraint(x):\n",
    "    t0 = x[0]\n",
    "    t1 = x[1]\n",
    "    k = x[2]\n",
    "    cons = m + x[3]*x[4] - (x[0]*x[3]*x[4] + x[1]*np.max(x[3]*x[4]-x[2],0))\n",
    "    return cons\n",
    "\n",
    "#The optimal tax revenue is defined based on the budget constraint and and the previously defined revenue\n",
    "def _tax(x):\n",
    "    w = x[3]\n",
    "    l = x[4]\n",
    "    c = budget_constraint(x)\n",
    "    return -revenue(x)\n",
    "\n",
    "#Bounds are created and an inital guess based on our given values in question 2 is given\n",
    "inital_guess = [0.4, 0.1, 0.4, 1, 0.4]\n",
    "bounds = ((0,1),(0,1),(0,1),(0.5,1.5),(0,1))\n",
    "constraint = ({\"type\":\"ineq\",\"fun\":budget_constraint})\n",
    "\n",
    "result = optimize.minimize(_tax, inital_guess, bounds=bounds,constraints=constraint, method='SLSQP')\n",
    "\n",
    "#The solution is unpacked\n",
    "t0_s = result.x[0]\n",
    "t1_s = result.x[1]\n",
    "k_s = result.x[2]\n",
    "w_s = result.x[3]\n",
    "l_s = result.x[4]\n",
    "c_s = budget_constraint(tax_res.x)\n",
    "ufunc_s = ufunc(c_s,l_s)\n",
    "tax_s = tax(w_values,l_values,t0_s,t1_s,k_s)\n",
    "\n",
    "print(f'Standard labour income tax: {t0_s*100:.1f}%')\n",
    "print(f'Top bracket labour income tax: {t1_s*100:.1f}%')\n",
    "print(f'Cut-off for top labour income: {k_s:.1f}')\n",
    "print(f'Expected tax revenue: {tax_s:.1f} currency units')"
   ]
  },
  {
   "cell_type": "markdown",
   "metadata": {},
   "source": [
    "# Conclusion"
   ]
  },
  {
   "cell_type": "markdown",
   "metadata": {},
   "source": [
    "ADD CONCISE CONCLUSION."
   ]
  },
  {
   "cell_type": "markdown",
   "metadata": {},
   "source": [
    "From our results we can conclude that higher wages generally result in greater labour supply and consumption.\n",
    "It can be observed from the figures how the labour supply drops for a wage equal to 1, which can be considered to be somewhat implausible.\n",
    "It is found that the tax revenue for the given parameters is equal to 1807.1, whereas the tax revenue with epsilon = 0.1 is around double that amount; 3581. Based on our initial guesses we advise the politician to choose a standard labour income tax of 99,9% (which may also be considered to be quite unlikely) and a top bracket labour income tax of 66,8%. From this the politician would gain a tax revenue of 14557,2 currency units."
   ]
  },
  {
   "cell_type": "code",
   "execution_count": null,
   "metadata": {},
   "outputs": [],
   "source": []
  }
 ],
 "metadata": {
  "kernelspec": {
   "display_name": "Python 3",
   "language": "python",
   "name": "python3"
  },
  "language_info": {
   "codemirror_mode": {
    "name": "ipython",
    "version": 3
   },
   "file_extension": ".py",
   "mimetype": "text/x-python",
   "name": "python",
   "nbconvert_exporter": "python",
   "pygments_lexer": "ipython3",
   "version": "3.7.4"
  },
  "toc-autonumbering": true
 },
 "nbformat": 4,
 "nbformat_minor": 4
}
